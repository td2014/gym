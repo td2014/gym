{
 "cells": [
  {
   "cell_type": "markdown",
   "metadata": {},
   "source": [
    "Exploring the OpenAI gym platform for reinforcement learning."
   ]
  },
  {
   "cell_type": "code",
   "execution_count": null,
   "metadata": {},
   "outputs": [],
   "source": [
    "#\n",
    "# An implementation of CartPole-v0 from: https://gym.openai.com/docs\n",
    "#\n",
    "import gym\n",
    "env = gym.make('CartPole-v0')\n",
    "for i_episode in range(2):\n",
    "    observation = env.reset()\n",
    "    print('initial observation (episode) = ', i_episode, observation)\n",
    "    for t in range(100):\n",
    "        env.render()\n",
    "        action = env.action_space.sample()\n",
    "        print('new action (t) = ', t, action)\n",
    "        action = 0 # force to left\n",
    "        observation, reward, done, info = env.step(action)\n",
    "        print('new observation (t) = ', t, observation)\n",
    "        if done:\n",
    "            print(\"Episode finished after {} timesteps\".format(t+1))\n",
    "            break"
   ]
  },
  {
   "cell_type": "code",
   "execution_count": null,
   "metadata": {},
   "outputs": [],
   "source": [
    "#\n",
    "# An implementation of CartPole-v0 from: https://gym.openai.com/docs.\n",
    "# Adding some improved algorithm content.\n",
    "# \n",
    "#\n",
    "import gym\n",
    "env = gym.make('CartPole-v0')\n",
    "for i_episode in range(2):\n",
    "    observation = env.reset()\n",
    "    print('initial observation (episode) = ', i_episode, observation)\n",
    "    for t in range(100):\n",
    "        env.render()\n",
    "        action = env.action_space.sample()\n",
    "        print('new action (t) = ', t, action)\n",
    "        action = 0 # force to left\n",
    "        observation, reward, done, info = env.step(action)\n",
    "        print('new observation (t) = ', t, observation)\n",
    "        if done:\n",
    "            print(\"Episode finished after {} timesteps\".format(t+1))\n",
    "            break"
   ]
  }
 ],
 "metadata": {
  "kernelspec": {
   "display_name": "Python 3",
   "language": "python",
   "name": "python3"
  },
  "language_info": {
   "codemirror_mode": {
    "name": "ipython",
    "version": 3
   },
   "file_extension": ".py",
   "mimetype": "text/x-python",
   "name": "python",
   "nbconvert_exporter": "python",
   "pygments_lexer": "ipython3",
   "version": "3.5.3"
  }
 },
 "nbformat": 4,
 "nbformat_minor": 2
}
